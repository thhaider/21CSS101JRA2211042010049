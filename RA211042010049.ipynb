{
  "nbformat": 4,
  "nbformat_minor": 0,
  "metadata": {
    "colab": {
      "provenance": [],
      "authorship_tag": "ABX9TyMnYL4RpYLbk/uoNMm02Wvt",
      "include_colab_link": true
    },
    "kernelspec": {
      "name": "python3",
      "display_name": "Python 3"
    },
    "language_info": {
      "name": "python"
    }
  },
  "cells": [
    {
      "cell_type": "markdown",
      "metadata": {
        "id": "view-in-github",
        "colab_type": "text"
      },
      "source": [
        "<a href=\"https://colab.research.google.com/github/thhaider/21CSS101JRA2211042010049/blob/main/RA211042010049.ipynb\" target=\"_parent\"><img src=\"https://colab.research.google.com/assets/colab-badge.svg\" alt=\"Open In Colab\"/></a>"
      ]
    },
    {
      "cell_type": "code",
      "execution_count": null,
      "metadata": {
        "colab": {
          "base_uri": "https://localhost:8080/"
        },
        "id": "uia4s7UkFaTP",
        "outputId": "3cdd01df-4edc-4438-d8dd-3d4fd5000f44"
      },
      "outputs": [
        {
          "output_type": "stream",
          "name": "stdout",
          "text": [
            "Hello Python\n"
          ]
        }
      ],
      "source": [
        "print (\"Hello Python\")"
      ]
    },
    {
      "cell_type": "code",
      "source": [
        "#USING COMMENTS IN PYTHON \n",
        "print(\"Hello, PYTHON!\")"
      ],
      "metadata": {
        "id": "L7sy7VfDIFbx",
        "outputId": "9821d767-b000-42f6-bfe7-a6b79bb76243",
        "colab": {
          "base_uri": "https://localhost:8080/"
        }
      },
      "execution_count": null,
      "outputs": [
        {
          "output_type": "stream",
          "name": "stdout",
          "text": [
            "Hello, PYTHON!\n"
          ]
        }
      ]
    },
    {
      "cell_type": "code",
      "source": [
        "x =\"Hello\"\n",
        "x = x + \" Python\"\n",
        "print (x)"
      ],
      "metadata": {
        "id": "GxS6gHZfJHQP",
        "outputId": "252e85ad-4499-4ff1-8846-84599ac2664c",
        "colab": {
          "base_uri": "https://localhost:8080/"
        }
      },
      "execution_count": null,
      "outputs": [
        {
          "output_type": "stream",
          "name": "stdout",
          "text": [
            "Hello Python\n"
          ]
        }
      ]
    },
    {
      "cell_type": "code",
      "source": [
        "x = (\"Haider\")\n",
        "y = (\"Shah\")\n",
        "print (x)\n",
        "print (y)"
      ],
      "metadata": {
        "id": "Cf-R8lm-KIPP",
        "outputId": "5b91d3de-c5a3-475e-f208-9144e1d110ed",
        "colab": {
          "base_uri": "https://localhost:8080/"
        }
      },
      "execution_count": null,
      "outputs": [
        {
          "output_type": "stream",
          "name": "stdout",
          "text": [
            "Haider\n",
            "Shah\n"
          ]
        }
      ]
    },
    {
      "cell_type": "code",
      "source": [
        "x = (\"Haider\")\n",
        "y = (\"Shah\")\n",
        "print ( x, y)"
      ],
      "metadata": {
        "id": "cDQaJbwNKmUB",
        "outputId": "1e875c52-a809-497a-80dd-9b59c1027b67",
        "colab": {
          "base_uri": "https://localhost:8080/"
        }
      },
      "execution_count": null,
      "outputs": [
        {
          "output_type": "stream",
          "name": "stdout",
          "text": [
            "Haider Shah\n"
          ]
        }
      ]
    },
    {
      "cell_type": "markdown",
      "source": [],
      "metadata": {
        "id": "-bsM8a2aOcJ1"
      }
    },
    {
      "cell_type": "code",
      "source": [
        "print(\"Haider\\fShah\")"
      ],
      "metadata": {
        "colab": {
          "base_uri": "https://localhost:8080/"
        },
        "id": "oiZKF8wsOdEL",
        "outputId": "d66da0cf-e9ae-4036-8c2f-db89ae8c18f7"
      },
      "execution_count": 14,
      "outputs": [
        {
          "output_type": "stream",
          "name": "stdout",
          "text": [
            "Haider\fShah\n"
          ]
        }
      ]
    },
    {
      "cell_type": "code",
      "source": [
        "print(\"Haider\\tShah\")"
      ],
      "metadata": {
        "colab": {
          "base_uri": "https://localhost:8080/"
        },
        "id": "aTc1yYNROlQd",
        "outputId": "3a72584a-6109-4544-c1d9-a7c8578111fc"
      },
      "execution_count": 15,
      "outputs": [
        {
          "output_type": "stream",
          "name": "stdout",
          "text": [
            "Haider\tShah\n"
          ]
        }
      ]
    },
    {
      "cell_type": "code",
      "source": [
        "print(\"Haider\\nShah\")"
      ],
      "metadata": {
        "colab": {
          "base_uri": "https://localhost:8080/"
        },
        "id": "YXQM3IquOlXA",
        "outputId": "d939be25-05db-403d-e33e-50b42e79443d"
      },
      "execution_count": 16,
      "outputs": [
        {
          "output_type": "stream",
          "name": "stdout",
          "text": [
            "Haider\n",
            "Shah\n"
          ]
        }
      ]
    },
    {
      "cell_type": "code",
      "source": [
        "print(\"\\a\")\n",
        "# rings bell\n"
      ],
      "metadata": {
        "colab": {
          "base_uri": "https://localhost:8080/"
        },
        "id": "ENeGHHs5PGqv",
        "outputId": "b55b2793-7113-44df-8e6b-2aa02ea14ed1"
      },
      "execution_count": 55,
      "outputs": [
        {
          "output_type": "stream",
          "name": "stdout",
          "text": [
            "\u0007\n"
          ]
        }
      ]
    },
    {
      "cell_type": "code",
      "source": [
        "x = 1\n",
        "y = 1j\n",
        "z = 1.0\n",
        "print(type(x))\n",
        "print(type(y))\n",
        "print(type(z))\n"
      ],
      "metadata": {
        "colab": {
          "base_uri": "https://localhost:8080/"
        },
        "id": "N_eTo22bQhci",
        "outputId": "34d7558e-cac9-4482-cf03-a2f6b7243f81"
      },
      "execution_count": 24,
      "outputs": [
        {
          "output_type": "stream",
          "name": "stdout",
          "text": [
            "<class 'int'>\n",
            "<class 'complex'>\n",
            "<class 'float'>\n"
          ]
        }
      ]
    },
    {
      "cell_type": "code",
      "source": [
        "x = 211042010049\n",
        "print(type(x))"
      ],
      "metadata": {
        "colab": {
          "base_uri": "https://localhost:8080/"
        },
        "id": "7D-SUl7JR5te",
        "outputId": "d430c52f-3f1c-40bf-f210-1216e235fc81"
      },
      "execution_count": 26,
      "outputs": [
        {
          "output_type": "stream",
          "name": "stdout",
          "text": [
            "<class 'int'>\n"
          ]
        }
      ]
    },
    {
      "cell_type": "code",
      "source": [
        "x = 22110420.49\n",
        "print(type(x))"
      ],
      "metadata": {
        "colab": {
          "base_uri": "https://localhost:8080/"
        },
        "id": "uT_m5-uoSJ9b",
        "outputId": "04a665a7-bc89-4b6a-bbe6-ce710bddcdcf"
      },
      "execution_count": 28,
      "outputs": [
        {
          "output_type": "stream",
          "name": "stdout",
          "text": [
            "<class 'float'>\n"
          ]
        }
      ]
    },
    {
      "cell_type": "code",
      "source": [
        "x = 10e2\n",
        "print(x)"
      ],
      "metadata": {
        "colab": {
          "base_uri": "https://localhost:8080/"
        },
        "id": "pAQp6tWoSY_K",
        "outputId": "3d1367f9-b552-4ae6-dd10-73f9e7c0e992"
      },
      "execution_count": 35,
      "outputs": [
        {
          "output_type": "stream",
          "name": "stdout",
          "text": [
            "1000.0\n"
          ]
        }
      ]
    },
    {
      "cell_type": "code",
      "source": [
        "x = 10e2\n",
        "print(type(x))"
      ],
      "metadata": {
        "colab": {
          "base_uri": "https://localhost:8080/"
        },
        "id": "bH2nct9ETFhM",
        "outputId": "6ee97c0c-9e94-4f81-ffb8-ed1f1b650976"
      },
      "execution_count": 36,
      "outputs": [
        {
          "output_type": "stream",
          "name": "stdout",
          "text": [
            "<class 'float'>\n"
          ]
        }
      ]
    },
    {
      "cell_type": "code",
      "source": [
        "x = 5+10j\n",
        "print(type(x))"
      ],
      "metadata": {
        "colab": {
          "base_uri": "https://localhost:8080/"
        },
        "id": "OoJ5jSM-TJgK",
        "outputId": "f34d828b-3ad8-4425-c526-a845d491ec91"
      },
      "execution_count": 38,
      "outputs": [
        {
          "output_type": "stream",
          "name": "stdout",
          "text": [
            "<class 'complex'>\n"
          ]
        }
      ]
    },
    {
      "cell_type": "code",
      "source": [
        "x = int(1)\n",
        "y = int(2.0)\n",
        "z = int(2e2)\n",
        "print(x)\n",
        "print(y)\n",
        "print(z)"
      ],
      "metadata": {
        "colab": {
          "base_uri": "https://localhost:8080/"
        },
        "id": "jh3kpRgvTZlK",
        "outputId": "e910a94a-d068-4a26-d273-37f07cf9cf82"
      },
      "execution_count": 39,
      "outputs": [
        {
          "output_type": "stream",
          "name": "stdout",
          "text": [
            "1\n",
            "2\n",
            "200\n"
          ]
        }
      ]
    },
    {
      "cell_type": "code",
      "source": [
        "x = float(1)\n",
        "y = float(2.0)\n",
        "z = float(2e2)\n",
        "print(x)\n",
        "print(y)\n",
        "print(z)"
      ],
      "metadata": {
        "colab": {
          "base_uri": "https://localhost:8080/"
        },
        "id": "hNkM7IriUe7J",
        "outputId": "27df6096-2c8c-46f1-8630-abb50a83e2ec"
      },
      "execution_count": 43,
      "outputs": [
        {
          "output_type": "stream",
          "name": "stdout",
          "text": [
            "1.0\n",
            "2.0\n",
            "200.0\n"
          ]
        }
      ]
    },
    {
      "cell_type": "code",
      "source": [
        "x = str(\"hs7384\")\n",
        "y = str(2.0)\n",
        "z = str(2e2)\n",
        "print(x)\n",
        "print(y)\n",
        "print(z)"
      ],
      "metadata": {
        "colab": {
          "base_uri": "https://localhost:8080/"
        },
        "id": "fNpF4olkU8yX",
        "outputId": "f4686271-48ee-45bc-e4ff-83498c53c56f"
      },
      "execution_count": 48,
      "outputs": [
        {
          "output_type": "stream",
          "name": "stdout",
          "text": [
            "hs7384\n",
            "2.0\n",
            "200.0\n"
          ]
        }
      ]
    },
    {
      "cell_type": "code",
      "source": [
        "x = 33\n",
        "y = 16\n",
        "print(x+y)"
      ],
      "metadata": {
        "colab": {
          "base_uri": "https://localhost:8080/"
        },
        "id": "acJrz-7LWGRN",
        "outputId": "00c28969-b158-4c54-b590-7a96a898f91e"
      },
      "execution_count": 49,
      "outputs": [
        {
          "output_type": "stream",
          "name": "stdout",
          "text": [
            "49\n"
          ]
        }
      ]
    },
    {
      "cell_type": "markdown",
      "source": [
        "Addition in Python"
      ],
      "metadata": {
        "id": "dKrw5BZyWYOY"
      }
    },
    {
      "cell_type": "code",
      "source": [
        "x = 50\n",
        "y = 1\n",
        "print(x-y)\n"
      ],
      "metadata": {
        "colab": {
          "base_uri": "https://localhost:8080/"
        },
        "id": "BoDiT1LJWbR7",
        "outputId": "451a3d10-edb9-4e3c-fb03-4f66322471f5"
      },
      "execution_count": 50,
      "outputs": [
        {
          "output_type": "stream",
          "name": "stdout",
          "text": [
            "49\n"
          ]
        }
      ]
    },
    {
      "cell_type": "markdown",
      "source": [
        "Subtraction in Pyhton"
      ],
      "metadata": {
        "id": "5IuVpzR1Wjh2"
      }
    },
    {
      "cell_type": "code",
      "source": [
        "x = 10\n",
        "y = 10\n",
        "print(x/y)"
      ],
      "metadata": {
        "colab": {
          "base_uri": "https://localhost:8080/"
        },
        "id": "OvtaLVrJWl17",
        "outputId": "a78398df-919a-4ab8-f3f9-fd63fe8243bd"
      },
      "execution_count": 52,
      "outputs": [
        {
          "output_type": "stream",
          "name": "stdout",
          "text": [
            "1.0\n"
          ]
        }
      ]
    },
    {
      "cell_type": "markdown",
      "source": [
        "Division in Python"
      ],
      "metadata": {
        "id": "v0K6kxBSWv4T"
      }
    },
    {
      "cell_type": "code",
      "source": [
        "x = 2\n",
        "y = 4\n",
        "print(x*y)"
      ],
      "metadata": {
        "colab": {
          "base_uri": "https://localhost:8080/"
        },
        "id": "wfyqyQ-hWyZb",
        "outputId": "6d6072f8-8ec6-4f43-9f6e-9c25c5ff2c0f"
      },
      "execution_count": 53,
      "outputs": [
        {
          "output_type": "stream",
          "name": "stdout",
          "text": [
            "8\n"
          ]
        }
      ]
    },
    {
      "cell_type": "markdown",
      "source": [
        "Multiplication in Python"
      ],
      "metadata": {
        "id": "ggSbmXBGW59j"
      }
    },
    {
      "cell_type": "code",
      "source": [
        "x = 4\n",
        "y = 9\n",
        "print(x%y)"
      ],
      "metadata": {
        "colab": {
          "base_uri": "https://localhost:8080/"
        },
        "id": "3_st2xGqW9NU",
        "outputId": "0da65250-1e95-4d8d-b4c8-8293f1e20037"
      },
      "execution_count": 56,
      "outputs": [
        {
          "output_type": "stream",
          "name": "stdout",
          "text": [
            "4\n"
          ]
        }
      ]
    },
    {
      "cell_type": "markdown",
      "source": [
        "Modulud in Python"
      ],
      "metadata": {
        "id": "NjVPdRWxYp1y"
      }
    },
    {
      "cell_type": "code",
      "source": [
        "roll_no = 49\n",
        "print(roll_no)\n"
      ],
      "metadata": {
        "id": "ynrhvZOLYZou",
        "outputId": "46001c40-f581-4af4-8630-491b4baf5954",
        "colab": {
          "base_uri": "https://localhost:8080/"
        }
      },
      "execution_count": 59,
      "outputs": [
        {
          "output_type": "stream",
          "name": "stdout",
          "text": [
            "49\n"
          ]
        }
      ]
    },
    {
      "cell_type": "markdown",
      "source": [
        "Using Assignment Operator"
      ],
      "metadata": {
        "id": "NcjvJPhIYhAV"
      }
    },
    {
      "cell_type": "code",
      "source": [
        "Registration_number = \"RA2211042010049\"\n",
        "print(Registration_number)\n"
      ],
      "metadata": {
        "id": "rmcyumBWX_KY",
        "outputId": "0197f692-34ef-4141-9282-146ac5a49865",
        "colab": {
          "base_uri": "https://localhost:8080/"
        }
      },
      "execution_count": 58,
      "outputs": [
        {
          "output_type": "stream",
          "name": "stdout",
          "text": [
            "RA2211042010049\n"
          ]
        }
      ]
    }
  ]
}