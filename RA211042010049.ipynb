{
  "nbformat": 4,
  "nbformat_minor": 0,
  "metadata": {
    "colab": {
      "provenance": [],
      "authorship_tag": "ABX9TyMR0U69bn+RGQKmsAr7G24i",
      "include_colab_link": true
    },
    "kernelspec": {
      "name": "python3",
      "display_name": "Python 3"
    },
    "language_info": {
      "name": "python"
    }
  },
  "cells": [
    {
      "cell_type": "markdown",
      "metadata": {
        "id": "view-in-github",
        "colab_type": "text"
      },
      "source": [
        "<a href=\"https://colab.research.google.com/github/thhaider/21CSS101JRA2211042010049/blob/main/RA211042010049.ipynb\" target=\"_parent\"><img src=\"https://colab.research.google.com/assets/colab-badge.svg\" alt=\"Open In Colab\"/></a>"
      ]
    },
    {
      "cell_type": "code",
      "execution_count": 5,
      "metadata": {
        "colab": {
          "base_uri": "https://localhost:8080/"
        },
        "id": "uia4s7UkFaTP",
        "outputId": "3cdd01df-4edc-4438-d8dd-3d4fd5000f44"
      },
      "outputs": [
        {
          "output_type": "stream",
          "name": "stdout",
          "text": [
            "Hello Python\n"
          ]
        }
      ],
      "source": [
        "print (\"Hello Python\")"
      ]
    },
    {
      "cell_type": "code",
      "source": [
        "#USING COMMENTS IN PYTHON \n",
        "print(\"Hello, PYTHON!\")"
      ],
      "metadata": {
        "id": "L7sy7VfDIFbx",
        "outputId": "9821d767-b000-42f6-bfe7-a6b79bb76243",
        "colab": {
          "base_uri": "https://localhost:8080/"
        }
      },
      "execution_count": 1,
      "outputs": [
        {
          "output_type": "stream",
          "name": "stdout",
          "text": [
            "Hello, PYTHON!\n"
          ]
        }
      ]
    },
    {
      "cell_type": "code",
      "source": [
        "x =\"Hello\"\n",
        "x = x + \" Python\"\n",
        "print (x)"
      ],
      "metadata": {
        "id": "GxS6gHZfJHQP",
        "outputId": "252e85ad-4499-4ff1-8846-84599ac2664c",
        "colab": {
          "base_uri": "https://localhost:8080/"
        }
      },
      "execution_count": 6,
      "outputs": [
        {
          "output_type": "stream",
          "name": "stdout",
          "text": [
            "Hello Python\n"
          ]
        }
      ]
    },
    {
      "cell_type": "code",
      "source": [
        "x = (\"Haider\")\n",
        "y = (\"Shah\")\n",
        "print (x)\n",
        "print (y)"
      ],
      "metadata": {
        "id": "Cf-R8lm-KIPP",
        "outputId": "5b91d3de-c5a3-475e-f208-9144e1d110ed",
        "colab": {
          "base_uri": "https://localhost:8080/"
        }
      },
      "execution_count": 7,
      "outputs": [
        {
          "output_type": "stream",
          "name": "stdout",
          "text": [
            "Haider\n",
            "Shah\n"
          ]
        }
      ]
    },
    {
      "cell_type": "code",
      "source": [
        "x = (\"Haider\")\n",
        "y = (\"Shah\")\n",
        "print ( x, y)"
      ],
      "metadata": {
        "id": "cDQaJbwNKmUB",
        "outputId": "1e875c52-a809-497a-80dd-9b59c1027b67",
        "colab": {
          "base_uri": "https://localhost:8080/"
        }
      },
      "execution_count": 8,
      "outputs": [
        {
          "output_type": "stream",
          "name": "stdout",
          "text": [
            "Haider Shah\n"
          ]
        }
      ]
    },
    {
      "cell_type": "code",
      "source": [],
      "metadata": {
        "id": "QoTTLn7MLDkM"
      },
      "execution_count": null,
      "outputs": []
    }
  ]
}