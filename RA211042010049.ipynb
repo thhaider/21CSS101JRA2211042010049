{
  "nbformat": 4,
  "nbformat_minor": 0,
  "metadata": {
    "colab": {
      "provenance": [],
      "toc_visible": true,
      "authorship_tag": "ABX9TyPwfWwj564drSLkMYDAsx9j",
      "include_colab_link": true
    },
    "kernelspec": {
      "name": "python3",
      "display_name": "Python 3"
    },
    "language_info": {
      "name": "python"
    }
  },
  "cells": [
    {
      "cell_type": "markdown",
      "metadata": {
        "id": "view-in-github",
        "colab_type": "text"
      },
      "source": [
        "<a href=\"https://colab.research.google.com/github/thhaider/21CSS101JRA2211042010049/blob/main/RA211042010049.ipynb\" target=\"_parent\"><img src=\"https://colab.research.google.com/assets/colab-badge.svg\" alt=\"Open In Colab\"/></a>"
      ]
    },
    {
      "cell_type": "code",
      "execution_count": null,
      "metadata": {
        "colab": {
          "base_uri": "https://localhost:8080/"
        },
        "id": "uia4s7UkFaTP",
        "outputId": "3cdd01df-4edc-4438-d8dd-3d4fd5000f44"
      },
      "outputs": [
        {
          "output_type": "stream",
          "name": "stdout",
          "text": [
            "Hello Python\n"
          ]
        }
      ],
      "source": [
        "print (\"Hello Python\")"
      ]
    },
    {
      "cell_type": "code",
      "source": [
        "#USING COMMENTS IN PYTHON \n",
        "print(\"Hello, PYTHON!\")"
      ],
      "metadata": {
        "id": "L7sy7VfDIFbx",
        "outputId": "9821d767-b000-42f6-bfe7-a6b79bb76243",
        "colab": {
          "base_uri": "https://localhost:8080/"
        }
      },
      "execution_count": null,
      "outputs": [
        {
          "output_type": "stream",
          "name": "stdout",
          "text": [
            "Hello, PYTHON!\n"
          ]
        }
      ]
    },
    {
      "cell_type": "code",
      "source": [
        "print(\"I\", \"Love\", \"Python\")"
      ],
      "metadata": {
        "id": "BfTCy6maIGsl",
        "outputId": "422f9d9f-df42-482d-d4cb-74f0461e15ba",
        "colab": {
          "base_uri": "https://localhost:8080/"
        }
      },
      "execution_count": null,
      "outputs": [
        {
          "output_type": "stream",
          "name": "stdout",
          "text": [
            "I Love Python\n"
          ]
        }
      ]
    },
    {
      "cell_type": "code",
      "source": [
        "print(\"I\"   \"Love\"   \"Python\")"
      ],
      "metadata": {
        "id": "LICgTpdRIKPP",
        "outputId": "aa4326a8-ffab-4224-d95d-9807c4b1045c",
        "colab": {
          "base_uri": "https://localhost:8080/"
        }
      },
      "execution_count": null,
      "outputs": [
        {
          "output_type": "stream",
          "name": "stdout",
          "text": [
            "ILovePython\n"
          ]
        }
      ]
    },
    {
      "cell_type": "code",
      "source": [
        "print(\"ABC\" * 3);"
      ],
      "metadata": {
        "id": "hvpAVWJ4IQGh",
        "outputId": "46ca2309-cf1d-4e8f-813a-81c891851f68",
        "colab": {
          "base_uri": "https://localhost:8080/"
        }
      },
      "execution_count": null,
      "outputs": [
        {
          "output_type": "stream",
          "name": "stdout",
          "text": [
            "ABCABCABC\n"
          ]
        }
      ]
    },
    {
      "cell_type": "code",
      "source": [
        "x =\"Hello\"\n",
        "x = x + \" Python\"\n",
        "print (x)"
      ],
      "metadata": {
        "id": "GxS6gHZfJHQP",
        "outputId": "252e85ad-4499-4ff1-8846-84599ac2664c",
        "colab": {
          "base_uri": "https://localhost:8080/"
        }
      },
      "execution_count": null,
      "outputs": [
        {
          "output_type": "stream",
          "name": "stdout",
          "text": [
            "Hello Python\n"
          ]
        }
      ]
    },
    {
      "cell_type": "code",
      "source": [
        "x = (\"Haider\")\n",
        "y = (\"Shah\")\n",
        "print (x)\n",
        "print (y)"
      ],
      "metadata": {
        "id": "Cf-R8lm-KIPP",
        "outputId": "5b91d3de-c5a3-475e-f208-9144e1d110ed",
        "colab": {
          "base_uri": "https://localhost:8080/"
        }
      },
      "execution_count": null,
      "outputs": [
        {
          "output_type": "stream",
          "name": "stdout",
          "text": [
            "Haider\n",
            "Shah\n"
          ]
        }
      ]
    },
    {
      "cell_type": "code",
      "source": [
        "x = (\"Haider\")\n",
        "y = (\"Shah\")\n",
        "print ( x, y)"
      ],
      "metadata": {
        "id": "cDQaJbwNKmUB",
        "outputId": "1e875c52-a809-497a-80dd-9b59c1027b67",
        "colab": {
          "base_uri": "https://localhost:8080/"
        }
      },
      "execution_count": null,
      "outputs": [
        {
          "output_type": "stream",
          "name": "stdout",
          "text": [
            "Haider Shah\n"
          ]
        }
      ]
    },
    {
      "cell_type": "markdown",
      "source": [],
      "metadata": {
        "id": "-bsM8a2aOcJ1"
      }
    },
    {
      "cell_type": "code",
      "source": [
        "print(\"Haider\\fShah\")"
      ],
      "metadata": {
        "colab": {
          "base_uri": "https://localhost:8080/"
        },
        "id": "oiZKF8wsOdEL",
        "outputId": "d66da0cf-e9ae-4036-8c2f-db89ae8c18f7"
      },
      "execution_count": null,
      "outputs": [
        {
          "output_type": "stream",
          "name": "stdout",
          "text": [
            "Haider\fShah\n"
          ]
        }
      ]
    },
    {
      "cell_type": "code",
      "source": [
        "print(\"Haider\\tShah\")"
      ],
      "metadata": {
        "colab": {
          "base_uri": "https://localhost:8080/"
        },
        "id": "aTc1yYNROlQd",
        "outputId": "3a72584a-6109-4544-c1d9-a7c8578111fc"
      },
      "execution_count": null,
      "outputs": [
        {
          "output_type": "stream",
          "name": "stdout",
          "text": [
            "Haider\tShah\n"
          ]
        }
      ]
    },
    {
      "cell_type": "code",
      "source": [
        "print(\"Haider\\nShah\")"
      ],
      "metadata": {
        "colab": {
          "base_uri": "https://localhost:8080/"
        },
        "id": "YXQM3IquOlXA",
        "outputId": "d939be25-05db-403d-e33e-50b42e79443d"
      },
      "execution_count": null,
      "outputs": [
        {
          "output_type": "stream",
          "name": "stdout",
          "text": [
            "Haider\n",
            "Shah\n"
          ]
        }
      ]
    },
    {
      "cell_type": "code",
      "source": [
        "print(\"\\a\")\n",
        "# rings bell\n"
      ],
      "metadata": {
        "colab": {
          "base_uri": "https://localhost:8080/"
        },
        "id": "ENeGHHs5PGqv",
        "outputId": "b55b2793-7113-44df-8e6b-2aa02ea14ed1"
      },
      "execution_count": null,
      "outputs": [
        {
          "output_type": "stream",
          "name": "stdout",
          "text": [
            "\u0007\n"
          ]
        }
      ]
    },
    {
      "cell_type": "code",
      "source": [
        "x = 1\n",
        "y = 1j\n",
        "z = 1.0\n",
        "print(type(x))\n",
        "print(type(y))\n",
        "print(type(z))\n"
      ],
      "metadata": {
        "colab": {
          "base_uri": "https://localhost:8080/"
        },
        "id": "N_eTo22bQhci",
        "outputId": "34d7558e-cac9-4482-cf03-a2f6b7243f81"
      },
      "execution_count": null,
      "outputs": [
        {
          "output_type": "stream",
          "name": "stdout",
          "text": [
            "<class 'int'>\n",
            "<class 'complex'>\n",
            "<class 'float'>\n"
          ]
        }
      ]
    },
    {
      "cell_type": "code",
      "source": [
        "x = 211042010049\n",
        "print(type(x))"
      ],
      "metadata": {
        "colab": {
          "base_uri": "https://localhost:8080/"
        },
        "id": "7D-SUl7JR5te",
        "outputId": "d430c52f-3f1c-40bf-f210-1216e235fc81"
      },
      "execution_count": null,
      "outputs": [
        {
          "output_type": "stream",
          "name": "stdout",
          "text": [
            "<class 'int'>\n"
          ]
        }
      ]
    },
    {
      "cell_type": "code",
      "source": [
        "x = 22110420.49\n",
        "print(type(x))"
      ],
      "metadata": {
        "colab": {
          "base_uri": "https://localhost:8080/"
        },
        "id": "uT_m5-uoSJ9b",
        "outputId": "04a665a7-bc89-4b6a-bbe6-ce710bddcdcf"
      },
      "execution_count": null,
      "outputs": [
        {
          "output_type": "stream",
          "name": "stdout",
          "text": [
            "<class 'float'>\n"
          ]
        }
      ]
    },
    {
      "cell_type": "code",
      "source": [
        "x = 10e2\n",
        "print(x)"
      ],
      "metadata": {
        "colab": {
          "base_uri": "https://localhost:8080/"
        },
        "id": "pAQp6tWoSY_K",
        "outputId": "3d1367f9-b552-4ae6-dd10-73f9e7c0e992"
      },
      "execution_count": null,
      "outputs": [
        {
          "output_type": "stream",
          "name": "stdout",
          "text": [
            "1000.0\n"
          ]
        }
      ]
    },
    {
      "cell_type": "code",
      "source": [
        "x = 10e2\n",
        "print(type(x))"
      ],
      "metadata": {
        "colab": {
          "base_uri": "https://localhost:8080/"
        },
        "id": "bH2nct9ETFhM",
        "outputId": "6ee97c0c-9e94-4f81-ffb8-ed1f1b650976"
      },
      "execution_count": null,
      "outputs": [
        {
          "output_type": "stream",
          "name": "stdout",
          "text": [
            "<class 'float'>\n"
          ]
        }
      ]
    },
    {
      "cell_type": "code",
      "source": [
        "x = 5+10j\n",
        "print(type(x))"
      ],
      "metadata": {
        "colab": {
          "base_uri": "https://localhost:8080/"
        },
        "id": "OoJ5jSM-TJgK",
        "outputId": "f34d828b-3ad8-4425-c526-a845d491ec91"
      },
      "execution_count": null,
      "outputs": [
        {
          "output_type": "stream",
          "name": "stdout",
          "text": [
            "<class 'complex'>\n"
          ]
        }
      ]
    },
    {
      "cell_type": "code",
      "source": [
        "x = int(1)\n",
        "y = int(2.0)\n",
        "z = int(2e2)\n",
        "print(x)\n",
        "print(y)\n",
        "print(z)"
      ],
      "metadata": {
        "colab": {
          "base_uri": "https://localhost:8080/"
        },
        "id": "jh3kpRgvTZlK",
        "outputId": "e910a94a-d068-4a26-d273-37f07cf9cf82"
      },
      "execution_count": null,
      "outputs": [
        {
          "output_type": "stream",
          "name": "stdout",
          "text": [
            "1\n",
            "2\n",
            "200\n"
          ]
        }
      ]
    },
    {
      "cell_type": "code",
      "source": [
        "x = float(1)\n",
        "y = float(2.0)\n",
        "z = float(2e2)\n",
        "print(x)\n",
        "print(y)\n",
        "print(z)"
      ],
      "metadata": {
        "colab": {
          "base_uri": "https://localhost:8080/"
        },
        "id": "hNkM7IriUe7J",
        "outputId": "27df6096-2c8c-46f1-8630-abb50a83e2ec"
      },
      "execution_count": null,
      "outputs": [
        {
          "output_type": "stream",
          "name": "stdout",
          "text": [
            "1.0\n",
            "2.0\n",
            "200.0\n"
          ]
        }
      ]
    },
    {
      "cell_type": "code",
      "source": [
        "x = str(\"hs7384\")\n",
        "y = str(2.0)\n",
        "z = str(2e2)\n",
        "print(x)\n",
        "print(y)\n",
        "print(z)"
      ],
      "metadata": {
        "colab": {
          "base_uri": "https://localhost:8080/"
        },
        "id": "fNpF4olkU8yX",
        "outputId": "f4686271-48ee-45bc-e4ff-83498c53c56f"
      },
      "execution_count": null,
      "outputs": [
        {
          "output_type": "stream",
          "name": "stdout",
          "text": [
            "hs7384\n",
            "2.0\n",
            "200.0\n"
          ]
        }
      ]
    },
    {
      "cell_type": "code",
      "source": [
        "x = 33\n",
        "y = 16\n",
        "print(x+y)"
      ],
      "metadata": {
        "colab": {
          "base_uri": "https://localhost:8080/"
        },
        "id": "acJrz-7LWGRN",
        "outputId": "00c28969-b158-4c54-b590-7a96a898f91e"
      },
      "execution_count": null,
      "outputs": [
        {
          "output_type": "stream",
          "name": "stdout",
          "text": [
            "49\n"
          ]
        }
      ]
    },
    {
      "cell_type": "markdown",
      "source": [
        "Addition in Python"
      ],
      "metadata": {
        "id": "dKrw5BZyWYOY"
      }
    },
    {
      "cell_type": "code",
      "source": [
        "x = 50\n",
        "y = 1\n",
        "print(x-y)\n"
      ],
      "metadata": {
        "colab": {
          "base_uri": "https://localhost:8080/"
        },
        "id": "BoDiT1LJWbR7",
        "outputId": "451a3d10-edb9-4e3c-fb03-4f66322471f5"
      },
      "execution_count": null,
      "outputs": [
        {
          "output_type": "stream",
          "name": "stdout",
          "text": [
            "49\n"
          ]
        }
      ]
    },
    {
      "cell_type": "markdown",
      "source": [
        "Subtraction in Pyhton"
      ],
      "metadata": {
        "id": "5IuVpzR1Wjh2"
      }
    },
    {
      "cell_type": "code",
      "source": [
        "x = 10\n",
        "y = 10\n",
        "print(x/y)"
      ],
      "metadata": {
        "colab": {
          "base_uri": "https://localhost:8080/"
        },
        "id": "OvtaLVrJWl17",
        "outputId": "a78398df-919a-4ab8-f3f9-fd63fe8243bd"
      },
      "execution_count": null,
      "outputs": [
        {
          "output_type": "stream",
          "name": "stdout",
          "text": [
            "1.0\n"
          ]
        }
      ]
    },
    {
      "cell_type": "markdown",
      "source": [
        "Division in Python"
      ],
      "metadata": {
        "id": "v0K6kxBSWv4T"
      }
    },
    {
      "cell_type": "code",
      "source": [
        "x = 2\n",
        "y = 4\n",
        "print(x*y)"
      ],
      "metadata": {
        "colab": {
          "base_uri": "https://localhost:8080/"
        },
        "id": "wfyqyQ-hWyZb",
        "outputId": "6d6072f8-8ec6-4f43-9f6e-9c25c5ff2c0f"
      },
      "execution_count": null,
      "outputs": [
        {
          "output_type": "stream",
          "name": "stdout",
          "text": [
            "8\n"
          ]
        }
      ]
    },
    {
      "cell_type": "markdown",
      "source": [
        "Multiplication in Python"
      ],
      "metadata": {
        "id": "ggSbmXBGW59j"
      }
    },
    {
      "cell_type": "code",
      "source": [
        "x = 4\n",
        "y = 9\n",
        "print(x%y)"
      ],
      "metadata": {
        "colab": {
          "base_uri": "https://localhost:8080/"
        },
        "id": "3_st2xGqW9NU",
        "outputId": "0da65250-1e95-4d8d-b4c8-8293f1e20037"
      },
      "execution_count": null,
      "outputs": [
        {
          "output_type": "stream",
          "name": "stdout",
          "text": [
            "4\n"
          ]
        }
      ]
    },
    {
      "cell_type": "markdown",
      "source": [
        "Modulud in Python"
      ],
      "metadata": {
        "id": "NjVPdRWxYp1y"
      }
    },
    {
      "cell_type": "code",
      "source": [
        "roll_no = 49\n",
        "print(roll_no)\n"
      ],
      "metadata": {
        "id": "ynrhvZOLYZou",
        "outputId": "46001c40-f581-4af4-8630-491b4baf5954",
        "colab": {
          "base_uri": "https://localhost:8080/"
        }
      },
      "execution_count": null,
      "outputs": [
        {
          "output_type": "stream",
          "name": "stdout",
          "text": [
            "49\n"
          ]
        }
      ]
    },
    {
      "cell_type": "markdown",
      "source": [
        "Using Assignment Operator"
      ],
      "metadata": {
        "id": "NcjvJPhIYhAV"
      }
    },
    {
      "cell_type": "code",
      "source": [
        "Registration_number = \"RA2211042010049\"\n",
        "print(Registration_number)\n"
      ],
      "metadata": {
        "id": "rmcyumBWX_KY",
        "outputId": "0197f692-34ef-4141-9282-146ac5a49865",
        "colab": {
          "base_uri": "https://localhost:8080/"
        }
      },
      "execution_count": null,
      "outputs": [
        {
          "output_type": "stream",
          "name": "stdout",
          "text": [
            "RA2211042010049\n"
          ]
        }
      ]
    },
    {
      "cell_type": "code",
      "source": [
        "str = 'Welcome To Python World'\n",
        "print(str)# will print output as follows  \n",
        "#If single quote (') is part of the string, then the characters of the string are enclosed between double quotes(\").\n"
      ],
      "metadata": {
        "colab": {
          "base_uri": "https://localhost:8080/"
        },
        "id": "Icmf8Ha2HAoa",
        "outputId": "612927e2-1b78-4cc7-aaa6-6fa43f30e61f"
      },
      "execution_count": 2,
      "outputs": [
        {
          "output_type": "stream",
          "name": "stdout",
          "text": [
            "Welcome To Python World\n"
          ]
        }
      ]
    },
    {
      "cell_type": "markdown",
      "source": [
        "Using single quotes (' ') "
      ],
      "metadata": {
        "id": "jqgbdd_0HLYF"
      }
    },
    {
      "cell_type": "code",
      "source": [
        "sentence =  \"Welcome to Python's world\"\n",
        "print (sentence)\n",
        "#If single quote (') is part of the string, and the characters are enclosed between single quotes, then a backslash (\\) should be added before (') of the string."
      ],
      "metadata": {
        "colab": {
          "base_uri": "https://localhost:8080/"
        },
        "id": "YoQOfXD4HSNN",
        "outputId": "8cfac0e7-c6df-4b57-8034-d411d950d0b6"
      },
      "execution_count": 3,
      "outputs": [
        {
          "output_type": "stream",
          "name": "stdout",
          "text": [
            "Welcome to Python's world\n"
          ]
        }
      ]
    },
    {
      "cell_type": "code",
      "source": [
        "\n",
        "sentence =  'Welcome to Python\\'s world' # observe a backslash (\\) before (')\n",
        "print (sentence)\n",
        "#The other way of having a single quote in the string content and enclosing the string within single quotes is using a backslash(\\)"
      ],
      "metadata": {
        "colab": {
          "base_uri": "https://localhost:8080/"
        },
        "id": "Gu5lzlIwHkDX",
        "outputId": "e5d372aa-cbfc-4e01-94d9-7abe72e8ceaa"
      },
      "execution_count": 4,
      "outputs": [
        {
          "output_type": "stream",
          "name": "stdout",
          "text": [
            "Welcome to Python's world\n"
          ]
        }
      ]
    },
    {
      "cell_type": "code",
      "source": [
        "str = \"Welcome to the world of Python\"\n",
        "print(str)"
      ],
      "metadata": {
        "colab": {
          "base_uri": "https://localhost:8080/"
        },
        "id": "m6WdhbKdHrqC",
        "outputId": "f37e58d5-4ef6-4e82-e709-8e8ffbcde6e4"
      },
      "execution_count": 5,
      "outputs": [
        {
          "output_type": "stream",
          "name": "stdout",
          "text": [
            "Welcome to the world of Python\n"
          ]
        }
      ]
    },
    {
      "cell_type": "markdown",
      "source": [
        "Using double quotes (\" \") "
      ],
      "metadata": {
        "id": "Gylcyi67H00z"
      }
    },
    {
      "cell_type": "code",
      "source": [
        "str = \"\"\"Welcome to the world of Python\n",
        "I love Python and Python is very easy to learn\n",
        "Practice makes man perfect\"\"\"\n",
        "print(str)\n",
        "#We use triple double quotes(\"\"\" \"\"\") to create multi-line strings in Python.\n"
      ],
      "metadata": {
        "colab": {
          "base_uri": "https://localhost:8080/"
        },
        "id": "mbAeXeJ6H3TA",
        "outputId": "2ff2c2ce-ff3f-4e8f-ee07-bf3a4cea90cd"
      },
      "execution_count": 6,
      "outputs": [
        {
          "output_type": "stream",
          "name": "stdout",
          "text": [
            "Welcome to the world of Python\n",
            "I love Python and Python is very easy to learn\n",
            "Practice makes man perfect\n"
          ]
        }
      ]
    },
    {
      "cell_type": "markdown",
      "source": [
        "Using triple double quotes(\"\"\" \"\"\") "
      ],
      "metadata": {
        "id": "9XsJhD4xIKSS"
      }
    },
    {
      "cell_type": "code",
      "source": [
        "str = '''Welcome to the world of Python\n",
        "I love Python and Python is very easy to learn\n",
        "Practice makes man perfect'''\n",
        "print(str)\n",
        "#We can also use triple single quotes(''' ''') to create multi-line strings in Python."
      ],
      "metadata": {
        "colab": {
          "base_uri": "https://localhost:8080/"
        },
        "id": "ZfxGzIY8IM5g",
        "outputId": "faaba423-76c6-49f4-8fc7-d4929f49e2d3"
      },
      "execution_count": 7,
      "outputs": [
        {
          "output_type": "stream",
          "name": "stdout",
          "text": [
            "Welcome to the world of Python\n",
            "I love Python and Python is very easy to learn\n",
            "Practice makes man perfect\n"
          ]
        }
      ]
    }
  ]
}