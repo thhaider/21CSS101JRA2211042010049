{
  "nbformat": 4,
  "nbformat_minor": 0,
  "metadata": {
    "colab": {
      "provenance": [],
      "authorship_tag": "ABX9TyPi5UoIpnN6/UJK1ntfplXC",
      "include_colab_link": true
    },
    "kernelspec": {
      "name": "python3",
      "display_name": "Python 3"
    },
    "language_info": {
      "name": "python"
    }
  },
  "cells": [
    {
      "cell_type": "markdown",
      "metadata": {
        "id": "view-in-github",
        "colab_type": "text"
      },
      "source": [
        "<a href=\"https://colab.research.google.com/github/thhaider/21CSS101JRA2211042010049/blob/main/RA211042010049.ipynb\" target=\"_parent\"><img src=\"https://colab.research.google.com/assets/colab-badge.svg\" alt=\"Open In Colab\"/></a>"
      ]
    },
    {
      "cell_type": "code",
      "execution_count": null,
      "metadata": {
        "colab": {
          "base_uri": "https://localhost:8080/"
        },
        "id": "uia4s7UkFaTP",
        "outputId": "3cdd01df-4edc-4438-d8dd-3d4fd5000f44"
      },
      "outputs": [
        {
          "output_type": "stream",
          "name": "stdout",
          "text": [
            "Hello Python\n"
          ]
        }
      ],
      "source": [
        "print (\"Hello Python\")"
      ]
    },
    {
      "cell_type": "code",
      "source": [
        "#USING COMMENTS IN PYTHON \n",
        "print(\"Hello, PYTHON!\")"
      ],
      "metadata": {
        "id": "L7sy7VfDIFbx",
        "outputId": "9821d767-b000-42f6-bfe7-a6b79bb76243",
        "colab": {
          "base_uri": "https://localhost:8080/"
        }
      },
      "execution_count": null,
      "outputs": [
        {
          "output_type": "stream",
          "name": "stdout",
          "text": [
            "Hello, PYTHON!\n"
          ]
        }
      ]
    },
    {
      "cell_type": "code",
      "source": [
        "x =\"Hello\"\n",
        "x = x + \" Python\"\n",
        "print (x)"
      ],
      "metadata": {
        "id": "GxS6gHZfJHQP",
        "outputId": "252e85ad-4499-4ff1-8846-84599ac2664c",
        "colab": {
          "base_uri": "https://localhost:8080/"
        }
      },
      "execution_count": null,
      "outputs": [
        {
          "output_type": "stream",
          "name": "stdout",
          "text": [
            "Hello Python\n"
          ]
        }
      ]
    },
    {
      "cell_type": "code",
      "source": [
        "x = (\"Haider\")\n",
        "y = (\"Shah\")\n",
        "print (x)\n",
        "print (y)"
      ],
      "metadata": {
        "id": "Cf-R8lm-KIPP",
        "outputId": "5b91d3de-c5a3-475e-f208-9144e1d110ed",
        "colab": {
          "base_uri": "https://localhost:8080/"
        }
      },
      "execution_count": null,
      "outputs": [
        {
          "output_type": "stream",
          "name": "stdout",
          "text": [
            "Haider\n",
            "Shah\n"
          ]
        }
      ]
    },
    {
      "cell_type": "code",
      "source": [
        "x = (\"Haider\")\n",
        "y = (\"Shah\")\n",
        "print ( x, y)"
      ],
      "metadata": {
        "id": "cDQaJbwNKmUB",
        "outputId": "1e875c52-a809-497a-80dd-9b59c1027b67",
        "colab": {
          "base_uri": "https://localhost:8080/"
        }
      },
      "execution_count": null,
      "outputs": [
        {
          "output_type": "stream",
          "name": "stdout",
          "text": [
            "Haider Shah\n"
          ]
        }
      ]
    },
    {
      "cell_type": "code",
      "source": [
        "a = (\"Shah Haider\")\n",
        "print(\"\\a\")"
      ],
      "metadata": {
        "id": "QoTTLn7MLDkM",
        "outputId": "8e1a4d0c-15f0-4193-bcbd-909ee72f02bf",
        "colab": {
          "base_uri": "https://localhost:8080/"
        }
      },
      "execution_count": 13,
      "outputs": [
        {
          "output_type": "stream",
          "name": "stdout",
          "text": [
            "\u0007\n"
          ]
        }
      ]
    },
    {
      "cell_type": "markdown",
      "source": [],
      "metadata": {
        "id": "-bsM8a2aOcJ1"
      }
    },
    {
      "cell_type": "code",
      "source": [
        "print(\"Haider\\fShah\")"
      ],
      "metadata": {
        "id": "oiZKF8wsOdEL",
        "outputId": "d66da0cf-e9ae-4036-8c2f-db89ae8c18f7",
        "colab": {
          "base_uri": "https://localhost:8080/"
        }
      },
      "execution_count": 14,
      "outputs": [
        {
          "output_type": "stream",
          "name": "stdout",
          "text": [
            "Haider\fShah\n"
          ]
        }
      ]
    },
    {
      "cell_type": "code",
      "source": [
        "print(\"Haider\\tShah\")"
      ],
      "metadata": {
        "id": "aTc1yYNROlQd",
        "outputId": "3a72584a-6109-4544-c1d9-a7c8578111fc",
        "colab": {
          "base_uri": "https://localhost:8080/"
        }
      },
      "execution_count": 15,
      "outputs": [
        {
          "output_type": "stream",
          "name": "stdout",
          "text": [
            "Haider\tShah\n"
          ]
        }
      ]
    },
    {
      "cell_type": "code",
      "source": [
        "print(\"Haider\\nShah\")"
      ],
      "metadata": {
        "id": "YXQM3IquOlXA",
        "outputId": "d939be25-05db-403d-e33e-50b42e79443d",
        "colab": {
          "base_uri": "https://localhost:8080/"
        }
      },
      "execution_count": 16,
      "outputs": [
        {
          "output_type": "stream",
          "name": "stdout",
          "text": [
            "Haider\n",
            "Shah\n"
          ]
        }
      ]
    }
  ]
}